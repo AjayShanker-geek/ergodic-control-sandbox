{
 "cells": [
  {
   "cell_type": "markdown",
   "metadata": {},
   "source": [
    "### Tutorial 2: Trajectory Optimization for Ergodic Control\n",
    "\n",
    "References:\n",
    "\n",
    "[1] *Miller, L.M., Silverman, Y., MacIver, M.A. and Murphey, T.D.*, 2015. **Ergodic exploration of distributed information**. IEEE Transactions on Robotics, 32(1), pp.36-52. [[Link](https://ieeexplore.ieee.org/abstract/document/7350162)]\n",
    "\n",
    "[2] *Miller, L.M. and Murphey, T.D.*, 2013, June. **Trajectory optimization for continuous ergodic exploration**. In 2013 American Control Conference (pp. 4196-4201). IEEE. [[Link](https://ieeexplore.ieee.org/abstract/document/6580484)]"
   ]
  },
  {
   "cell_type": "code",
   "execution_count": 771,
   "metadata": {},
   "outputs": [],
   "source": [
    "import numpy as np \n",
    "np.set_printoptions(precision=4)\n",
    "from scipy.stats import multivariate_normal as mvn\n",
    "from tqdm import tqdm\n",
    "\n",
    "import matplotlib.pyplot as plt\n",
    "import matplotlib as mpl\n",
    "mpl.rcParams['axes.linewidth'] = 3\n",
    "mpl.rcParams['axes.titlesize'] = 20\n",
    "mpl.rcParams['axes.labelsize'] = 20\n",
    "mpl.rcParams['axes.titlepad'] = 8.0\n",
    "mpl.rcParams['xtick.major.size'] = 6\n",
    "mpl.rcParams['xtick.major.width'] = 3\n",
    "mpl.rcParams['xtick.labelsize'] = 20\n",
    "mpl.rcParams['ytick.major.size'] = 6\n",
    "mpl.rcParams['ytick.major.width'] = 3\n",
    "mpl.rcParams['ytick.labelsize'] = 20\n",
    "mpl.rcParams['lines.markersize'] = 5\n",
    "mpl.rcParams['lines.linewidth'] = 5\n",
    "mpl.rcParams['legend.fontsize'] = 15"
   ]
  },
  {
   "cell_type": "markdown",
   "metadata": {},
   "source": [
    "#### Quick recap on trajectory optimization with iLQR\n",
    "\n",
    "Consider the following standard formula for an optimal control problem:\n",
    "\n",
    "$$\n",
    "\\begin{align}\n",
    "u^*(t) & = {\\arg\\min}_{u(t)} \\int_{0}^{T} l(x(t), u(t)) dt + m(x(T)) \\\\\n",
    "s.t. & \\quad \\dot{x}(t) = f(x(t), u(t)), \\quad x(0) = x_0\n",
    "\\end{align}\n",
    "$$\n",
    "\n",
    "The iterative linear quadratic regular (iLQR) algorithm follows a gradient descent approach to find a locally optimal solution. Given the current estimation of the control $u(t)$, at each iteration, iLQR finds the descent direction $v(t)$ by solving the following ODEs:\n",
    "\n",
    "$$\n",
    "\\begin{align}\n",
    "    & B(t)^\\top p(t) + b(t) + R_v^\\top v(t) = 0 \\\\\n",
    "    & \\dot{p}(t) = -A(t)^\\top p(t) - a(t) - Q_z^\\top z(t) \\\\\n",
    "    & \\dot{z}(t) = A(t) z(t) + B(t) v(t),\n",
    "\\end{align}\n",
    "$$ \n",
    "\n",
    "with the intial and terminal conditions:\n",
    "\n",
    "$$\n",
    "\\begin{align}\n",
    "    z(0) = 0, \\quad p(T) = \\frac{d}{dx} m(x(T))\n",
    "\\end{align}\n",
    "$$\n",
    "\n",
    "where\n",
    "\n",
    "$$\n",
    "\\begin{align}\n",
    "    A(t) & = \\frac{d}{dx} f(x(t), u(t)) \\\\\n",
    "    B(t) & = \\frac{d}{du} f(x(t), u(t)) \\\\\n",
    "    a(t) & = \\frac{d}{dx} l(x(t), u(t)) \\\\\n",
    "    b(t) & = \\frac{d}{du} l(x(t), u(t)),\n",
    "\\end{align}\n",
    "$$\n",
    "\n",
    "and $Q_z$ and $R_v$ are user-defined regularization parameters.\n",
    "\n",
    "One can solve the ODEs as a two-point boundary value problem or by solving the Riccati equation. We provide a template for the iLQR algorithm below."
   ]
  },
  {
   "cell_type": "code",
   "execution_count": 772,
   "metadata": {},
   "outputs": [],
   "source": [
    "class iLQR_template:\n",
    "    def __init__(self, dt, tsteps, x_dim, u_dim, Q_z, R_v) -> None:\n",
    "        self.dt = dt \n",
    "        self.tsteps = tsteps \n",
    "\n",
    "        self.x_dim = x_dim \n",
    "        self.u_dim = u_dim\n",
    "\n",
    "        self.Q_z = Q_z \n",
    "        self.Q_z_inv = np.linalg.inv(Q_z)\n",
    "        self.R_v = R_v \n",
    "        self.R_v_inv = np.linalg.inv(R_v)\n",
    "\n",
    "        self.curr_x_traj = None \n",
    "        self.curr_y_traj = None\n",
    "\n",
    "    def dyn(self, xt, ut):\n",
    "        raise NotImplementedError(\"Not implemented.\")\n",
    "\n",
    "    def step(self, xt, ut): \n",
    "        \"\"\"RK4 integration\"\"\"\n",
    "        k1 = self.dt * self.dyn(xt, ut)\n",
    "        k2 = self.dt * self.dyn(xt + k1/2.0, ut)\n",
    "        k3 = self.dt * self.dyn(xt + k2/2.0, ut)\n",
    "        k4 = self.dt * self.dyn(xt + k3, ut)\n",
    "\n",
    "        xt_new = xt + (k1 + 2.0*k2 + 2.0*k3 + k4) / 6.0 \n",
    "        return xt_new \n",
    "    \n",
    "    def traj_sim(self, x0, u_traj):\n",
    "        x_traj = np.zeros((self.tsteps, self.x_dim))\n",
    "        xt = x0.copy()\n",
    "        for t_idx in range(self.tsteps):\n",
    "            xt = self.step(xt, u_traj[t_idx])\n",
    "            x_traj[t_idx] = xt.copy()\n",
    "        return x_traj\n",
    "    \n",
    "    def loss(self):\n",
    "        raise NotImplementedError(\"Not implemented.\")\n",
    "    \n",
    "    def get_At_mat(self, t_idx):\n",
    "        raise NotImplementedError(\"Not implemented.\")\n",
    "    \n",
    "    def get_Bt_mat(self, t_idx):\n",
    "        raise NotImplementedError(\"Not implemented.\")\n",
    "\n",
    "    def get_at_vec(self, t_idx):\n",
    "        raise NotImplementedError(\"Not implemented.\")\n",
    "    \n",
    "    def get_bt_vec(self, t_idx):\n",
    "        raise NotImplementedError(\"Not implemented.\")\n",
    "\n",
    "    # the following functions are utilities for solving the Riccati equation\n",
    "    def P_dyn_rev(self, Pt, At, Bt, at, bt):\n",
    "        return Pt @ At + At.T @ Pt - Pt @ Bt @ self.R_v_inv @ Bt.T @ Pt + self.Q_z \n",
    "    \n",
    "    def P_dyn_step(self, Pt, At, Bt, at, bt):\n",
    "        k1 = self.dt * self.P_dyn_rev(Pt, At, Bt, at, bt)\n",
    "        k2 = self.dt * self.P_dyn_rev(Pt+k1/2, At, Bt, at, bt)\n",
    "        k3 = self.dt * self.P_dyn_rev(Pt+k2/2, At, Bt, at, bt)\n",
    "        k4 = self.dt * self.P_dyn_rev(Pt+k3, At, Bt, at, bt)\n",
    "\n",
    "        Pt_new = Pt + (k1 + 2.0*k2 + 2.0*k3 + k4) / 6.0 \n",
    "        return Pt_new \n",
    "    \n",
    "    def P_traj_revsim(self, PT, A_traj, B_traj, a_traj, b_traj):\n",
    "        P_traj_rev = np.zeros((self.tsteps, self.x_dim, self.x_dim))\n",
    "        P_curr = PT.copy()\n",
    "        for t in range(self.tsteps):\n",
    "            At = A_traj[-1-t]\n",
    "            Bt = B_traj[-1-t]\n",
    "            at = a_traj[-1-t]\n",
    "            bt = b_traj[-1-t]\n",
    "\n",
    "            P_new = self.P_dyn_step(P_curr, At, Bt, at, bt)\n",
    "            P_traj_rev[t] = P_new.copy()\n",
    "            P_curr = P_new \n",
    "        \n",
    "        return P_traj_rev\n",
    "\n",
    "    def r_dyn_rev(self, rt, Pt, At, Bt, at, bt):\n",
    "        return (At - Bt @ self.R_v_inv @ Bt.T @ Pt).T @ rt + at - Pt @ Bt @ self.R_v_inv @ bt\n",
    "\n",
    "    def r_dyn_step(self, rt, Pt, At, Bt, at, bt):\n",
    "        k1 = self.dt * self.r_dyn_rev(rt, Pt, At, Bt, at, bt)\n",
    "        k2 = self.dt * self.r_dyn_rev(rt+k1/2, Pt, At, Bt, at, bt)\n",
    "        k3 = self.dt * self.r_dyn_rev(rt+k2/2, Pt, At, Bt, at, bt)\n",
    "        k4 = self.dt * self.r_dyn_rev(rt+k3, Pt, At, Bt, at, bt)\n",
    "\n",
    "        rt_new = rt + (k1 + 2.0*k2 + 2.0*k3 + k4) / 6.0 \n",
    "        return rt_new\n",
    "    \n",
    "    def r_traj_revsim(self, rT, P_traj, A_traj, B_traj, a_traj, b_traj):\n",
    "        r_traj_rev = np.zeros((self.tsteps, self.x_dim))\n",
    "        r_curr = rT\n",
    "        for t in range(self.tsteps):\n",
    "            Pt = P_traj[-1-t]\n",
    "            At = A_traj[-1-t]\n",
    "            Bt = B_traj[-1-t]\n",
    "            at = a_traj[-1-t]\n",
    "            bt = b_traj[-1-t]\n",
    "\n",
    "            r_new = self.r_dyn_step(r_curr, Pt, At, Bt, at, bt)\n",
    "            r_traj_rev[t] = r_new.copy()\n",
    "            r_curr = r_new \n",
    "\n",
    "        return r_traj_rev\n",
    "\n",
    "    def z_dyn(self, zt, Pt, rt, At, Bt, bt):\n",
    "        return At @ zt + Bt @ self.z2v(zt, Pt, rt, Bt, bt)\n",
    "    \n",
    "    def z_dyn_step(self, zt, Pt, rt, At, Bt, bt):\n",
    "        k1 = self.dt * self.z_dyn(zt, Pt, rt, At, Bt, bt)\n",
    "        k2 = self.dt * self.z_dyn(zt+k1/2, Pt, rt, At, Bt, bt)\n",
    "        k3 = self.dt * self.z_dyn(zt+k2/2, Pt, rt, At, Bt, bt)\n",
    "        k4 = self.dt * self.z_dyn(zt+k3, Pt, rt, At, Bt, bt)\n",
    "\n",
    "        zt_new = zt + (k1 + 2.0*k2 + 2.0*k3 + k4) / 6.0 \n",
    "        return zt_new\n",
    "\n",
    "    def z_traj_sim(self, z0, P_traj, r_traj, A_traj, B_traj, b_traj):\n",
    "        z_traj = np.zeros((self.tsteps, self.x_dim))\n",
    "        z_curr = z0.copy()\n",
    "\n",
    "        for t in range(self.tsteps):\n",
    "            Pt = P_traj[t]\n",
    "            rt = r_traj[t]\n",
    "            At = A_traj[t]\n",
    "            Bt = B_traj[t]\n",
    "            bt = b_traj[t]\n",
    "\n",
    "            z_new = self.z_dyn_step(z_curr, Pt, rt, At, Bt, bt)\n",
    "            z_traj[t] = z_new.copy()\n",
    "            z_curr = z_new\n",
    "        \n",
    "        return z_traj\n",
    "    \n",
    "    def z2v(self, zt, Pt, rt, Bt, bt):\n",
    "        return -self.R_v_inv @ Bt.T @ Pt @ zt - self.R_v_inv @ Bt.T @ rt - self.R_v_inv @ bt\n",
    "\n",
    "    def get_descent(self, x0, u_traj):\n",
    "        # forward simulate the trajectory\n",
    "        x_traj = self.traj_sim(x0, u_traj)\n",
    "        self.curr_x_traj = x_traj.copy()\n",
    "        self.curr_u_traj = u_traj.copy()\n",
    "\n",
    "        # sovle the Riccati equation backward in time\n",
    "        A_traj = np.zeros((self.tsteps, self.x_dim, self.x_dim))\n",
    "        B_traj = np.zeros((self.tsteps, self.x_dim, self.u_dim))\n",
    "        a_traj = np.zeros((self.tsteps, self.x_dim))\n",
    "        b_traj = np.zeros((self.tsteps, self.u_dim))\n",
    "\n",
    "        for t_idx in range(self.tsteps):\n",
    "            A_traj[t_idx] = self.get_At_mat(t_idx)\n",
    "            B_traj[t_idx] = self.get_Bt_mat(t_idx)\n",
    "            a_traj[t_idx] = self.get_at_vec(t_idx)\n",
    "            b_traj[t_idx] = self.get_bt_vec(t_idx)\n",
    "        \n",
    "        PT = np.zeros((self.x_dim, self.x_dim))\n",
    "        P_traj_rev = self.P_traj_revsim(PT, A_traj, B_traj, a_traj, b_traj)\n",
    "        P_traj = np.flip(P_traj_rev, axis=0)\n",
    "\n",
    "        rT = np.zeros(self.x_dim)\n",
    "        r_traj_rev = self.r_traj_revsim(rT, P_traj, A_traj, B_traj, a_traj, b_traj)\n",
    "        r_traj = np.flip(r_traj_rev, axis=0)\n",
    "\n",
    "        z0 = np.zeros(self.x_dim)\n",
    "        z_traj = self.z_traj_sim(z0, P_traj, r_traj, A_traj, B_traj, b_traj)\n",
    "\n",
    "        # compute the descent direction\n",
    "        v_traj = np.zeros((self.tsteps, self.u_dim))\n",
    "        for t in range(self.tsteps):\n",
    "            zt = z_traj[t]\n",
    "            Pt = P_traj[t]\n",
    "            rt = r_traj[t]\n",
    "            Bt = B_traj[t]\n",
    "            bt = b_traj[t]\n",
    "            v_traj[t] = self.z2v(zt, Pt, rt, Bt, bt)\n",
    "        \n",
    "        return v_traj"
   ]
  },
  {
   "cell_type": "markdown",
   "metadata": {},
   "source": [
    "To formulate a trajectory optimization problem for ergodic control, we define the following objective:\n",
    "\n",
    "$$\n",
    "u^*(t) = {\\arg\\min}_{u(t)} \\text{ } \\mathcal{E}(s(t), P(x)) + \\int_0^T \\frac{1}{2} u(t) R^\\top u(t) dt\n",
    "$$\n",
    "\n",
    "Recall that the ergodic metric $\\mathcal{E}(s(t), P(x))$ is formulated as follow:\n",
    "\n",
    "$$\n",
    "\\mathcal{E}(p(x), s(t)) = \\sum_{k} \\lambda_k \\cdot (c_k - \\phi_k)^2\n",
    "$$\n",
    "\n",
    "In this case, in order to compute the descent direction, we have:\n",
    "\n",
    "$$\n",
    "\\begin{align}\n",
    "    a(t) & = \\sum_k \\lambda_k \\left[ 2 \\left( \\frac{1}{T}\\int_{0}^{T} f_k(x(\\tau)) d\\tau - \\phi_k \\right) \\cdot \\frac{1}{T} \\nabla f_k(x(t)) \\right] \\\\\n",
    "    b(t) & = R^\\top u(t),\n",
    "\\end{align}\n",
    "$$\n",
    "\n",
    "We now implement the above iLQR ergodic control formula using the template code. We are going to optimize the trajectory of a differential-drive vehicle over the Gaussian-mixture target distribution defined in the previous tutorial."
   ]
  },
  {
   "cell_type": "code",
   "execution_count": 773,
   "metadata": {},
   "outputs": [],
   "source": [
    "class Barr:\n",
    "    def __init__(self, x_min, x_max):\n",
    "        self.x_min = x_min\n",
    "        self.x_max = x_max \n",
    "        self.w = 10.0\n",
    "\n",
    "    def eval(self, x):\n",
    "        val = 0.0\n",
    "        val += np.sum((x > self.x_max) * np.square(x - self.x_max))\n",
    "        val += np.sum((x < self.x_min) * np.square(self.x_min - x))\n",
    "        return val * self.w \n",
    "    \n",
    "    def grad(self, x):\n",
    "        dvec = 0.0\n",
    "        dvec += 2.0 * (x > self.x_max) * (x - self.x_max)\n",
    "        dvec += 2.0 * (x < self.x_min) * (x - self.x_min)\n",
    "        return dvec * self.w\n",
    "    \n",
    "\n",
    "class iLQR_ergodic(iLQR_template):\n",
    "    def __init__(self, dt, tsteps, x_dim, u_dim, Q_z, R_v,\n",
    "                 R, ks, L_list, lamk_list, hk_list, phik_list) -> None:\n",
    "        super().__init__(dt, tsteps, x_dim, u_dim, Q_z, R_v)\n",
    "        \n",
    "        self.R = R \n",
    "        self.ks = ks \n",
    "        self.L_list = L_list\n",
    "        self.lamk_list = lamk_list \n",
    "        self.hk_list = hk_list \n",
    "        self.phik_list = phik_list \n",
    "\n",
    "        self.barr = Barr(*L_list)\n",
    "\n",
    "    def dyn(self, xt, ut):\n",
    "        # xdot = np.array([\n",
    "        #     ut[0] * np.cos(xt[2]),\n",
    "        #     ut[0] * np.sin(xt[2]),\n",
    "        #     ut[1]\n",
    "        # ])\n",
    "        # return xdot \n",
    "        return ut\n",
    "        \n",
    "    def get_At_mat(self, t_idx):\n",
    "        xt = self.curr_x_traj[t_idx]\n",
    "        ut = self.curr_u_traj[t_idx]\n",
    "        # A = np.array([\n",
    "        #     [0.0, 0.0, -np.sin(xt[2]) * ut[0]],\n",
    "        #     [0.0, 0.0,  np.cos(xt[2]) * ut[0]],\n",
    "        #     [0.0, 0.0, 0.0]\n",
    "        # ])\n",
    "        A = np.eye(self.x_dim)\n",
    "        return A\n",
    "    \n",
    "    def get_Bt_mat(self, t_idx):\n",
    "        xt = self.curr_x_traj[t_idx]\n",
    "        # B = np.array([\n",
    "        #     [np.cos(xt[2]), 0.0],\n",
    "        #     [np.sin(xt[2]), 0.0],\n",
    "        #     [0.0, 1.0]\n",
    "        # ])\n",
    "        B = np.eye(self.u_dim)\n",
    "        return B\n",
    "\n",
    "    def get_at_vec(self, t_idx):\n",
    "        xt = self.curr_x_traj[t_idx][:2]\n",
    "        x_traj = self.curr_x_traj[:,:2]\n",
    "        \n",
    "        dfk_xt_all = np.array([\n",
    "            -np.pi * self.ks[:,0] / self.L_list[0] * np.sin(np.pi * self.ks[:,0] / self.L_list[0] * xt[0]) * np.cos(np.pi * self.ks[:,1] / self.L_list[1] * xt[1]),\n",
    "            -np.pi * self.ks[:,1] / self.L_list[1] * np.cos(np.pi * self.ks[:,0] / self.L_list[0] * xt[0]) * np.sin(np.pi * self.ks[:,1] / self.L_list[1] * xt[1]),\n",
    "        ]) / self.hk_list\n",
    "\n",
    "        fk_all = np.prod(np.cos(np.pi * self.ks / self.L_list * x_traj[:,None]), axis=2) / self.hk_list\n",
    "        ck_all = np.sum(fk_all, axis=0) * self.dt / (self.tsteps * self.dt)\n",
    "\n",
    "        at = np.sum(self.lamk_list * 2.0 * (ck_all - self.phik_list) * dfk_xt_all / (self.tsteps * self.dt), axis=1)\n",
    "        # return np.array([at[0], at[1], 0.0])\n",
    "\n",
    "        return at + 1.0 * self.barr.grad(xt)\n",
    "\n",
    "    def get_bt_vec(self, t_idx):\n",
    "        ut = self.curr_u_traj[t_idx]\n",
    "        return self.R @ ut \n",
    "    \n",
    "    def loss(self, x_traj, u_traj):\n",
    "        # x_traj = self.curr_x_traj[:,:2]\n",
    "        fk_all = np.prod(np.cos(np.pi * self.ks / self.L_list * x_traj[:,None]), axis=2) / self.hk_list\n",
    "        ck_all = np.sum(fk_all, axis=0) * self.dt / (self.tsteps * self.dt)\n",
    "        erg_metric = np.sum(self.lamk_list * np.square(ck_all - self.phik_list))\n",
    "\n",
    "        # u_traj = self.curr_u_traj\n",
    "        ctrl_cost = np.sum(self.R @ u_traj.T * u_traj.T) * self.dt \n",
    "\n",
    "        barr_cost = self.barr.eval(x_traj) * self.dt\n",
    "\n",
    "        return erg_metric + ctrl_cost + barr_cost"
   ]
  },
  {
   "cell_type": "code",
   "execution_count": 774,
   "metadata": {},
   "outputs": [],
   "source": [
    "# Define the target distribution\n",
    "mean1 = np.array([0.35, 0.38])\n",
    "cov1 = np.array([\n",
    "    [0.01, 0.004],\n",
    "    [0.004, 0.01]\n",
    "])\n",
    "w1 = 0.5\n",
    "\n",
    "mean2 = np.array([0.68, 0.25])\n",
    "cov2 = np.array([\n",
    "    [0.005, -0.003],\n",
    "    [-0.003, 0.005]\n",
    "])\n",
    "w2 = 0.2\n",
    "\n",
    "mean3 = np.array([0.56, 0.64])\n",
    "cov3 = np.array([\n",
    "    [0.008, 0.0],\n",
    "    [0.0, 0.004]\n",
    "])\n",
    "w3 = 0.3\n",
    "\n",
    "def pdf(x):\n",
    "    return w1 * mvn.pdf(x, mean1, cov1) + \\\n",
    "           w2 * mvn.pdf(x, mean2, cov2) + \\\n",
    "           w3 * mvn.pdf(x, mean3, cov3)\n",
    "\n",
    "# Define a 1-by-1 2D search space\n",
    "L_list = np.array([1.0, 1.0])  # boundaries for each dimension\n",
    "\n",
    "# Discretize the search space into 100-by-100 mesh grids\n",
    "grids_x, grids_y = np.meshgrid(\n",
    "    np.linspace(0, L_list[0], 100),\n",
    "    np.linspace(0, L_list[1], 100)\n",
    ")\n",
    "grids = np.array([grids_x.ravel(), grids_y.ravel()]).T\n",
    "dx = 1.0 / 99\n",
    "dy = 1.0 / 99 "
   ]
  },
  {
   "cell_type": "code",
   "execution_count": 775,
   "metadata": {},
   "outputs": [],
   "source": [
    "# Configure the index vectors\n",
    "num_k_per_dim = 10\n",
    "ks_dim1, ks_dim2 = np.meshgrid(\n",
    "    np.arange(num_k_per_dim), np.arange(num_k_per_dim)\n",
    ")\n",
    "ks = np.array([ks_dim1.ravel(), ks_dim2.ravel()]).T\n",
    "\n",
    "# Pre-processing lambda_k and h_k\n",
    "lamk_list = np.power(1.0 + np.linalg.norm(ks, axis=1), -3/2.0)\n",
    "hk_list = np.zeros(ks.shape[0])\n",
    "for i, k_vec in enumerate(ks):\n",
    "    fk_vals = np.prod(np.cos(np.pi * k_vec / L_list * grids), axis=1)  \n",
    "    hk = np.sqrt(np.sum(np.square(fk_vals)) * dx * dy)\n",
    "    hk_list[i] = hk\n",
    "\n",
    "# compute the coefficients for the target distribution\n",
    "phik_list = np.zeros(ks.shape[0])  \n",
    "pdf_vals = pdf(grids)\n",
    "for i, (k_vec, hk) in enumerate(zip(ks, hk_list)):\n",
    "    fk_vals = np.prod(np.cos(np.pi * k_vec / L_list * grids), axis=1)  \n",
    "    fk_vals /= hk\n",
    "\n",
    "    phik = np.sum(fk_vals * pdf_vals) * dx * dy \n",
    "    phik_list[i] = phik"
   ]
  },
  {
   "cell_type": "code",
   "execution_count": 776,
   "metadata": {},
   "outputs": [
    {
     "name": "stdout",
     "output_type": "stream",
     "text": [
      "x0:  [0.5421 0.5406]\n"
     ]
    }
   ],
   "source": [
    "# Define the optimal control problem \n",
    "dt = 0.1 \n",
    "tsteps = 100\n",
    "R = np.diag([0.0001, 0.0001])\n",
    "Q_z = np.diag([0.01, 0.01])\n",
    "R_v = np.diag([0.01, 0.01])\n",
    "x0 = np.random.uniform(low=0.45, high=0.55, size=(2,))\n",
    "print('x0: ', x0)\n",
    "init_u_traj = np.tile(np.array([0.01, 0.02]), reps=(tsteps,1))"
   ]
  },
  {
   "cell_type": "code",
   "execution_count": 777,
   "metadata": {},
   "outputs": [],
   "source": [
    "trajopt_ergodic = iLQR_ergodic(\n",
    "    dt, tsteps, x_dim=2, u_dim=2, Q_z=Q_z, R_v=R_v,\n",
    "    R=R, ks=ks, L_list=L_list, lamk_list=lamk_list,\n",
    "    hk_list=hk_list, phik_list=phik_list\n",
    ")"
   ]
  },
  {
   "cell_type": "code",
   "execution_count": 778,
   "metadata": {},
   "outputs": [
    {
     "data": {
      "image/png": "[encoded data removed]",
      "text/plain": [
       "<Figure size 600x400 with 1 Axes>"
      ]
     },
     "metadata": {
      "needs_background": "light"
     },
     "output_type": "display_data"
    }
   ],
   "source": [
    "# test descent direction\n",
    "v_traj = trajopt_ergodic.get_descent(x0, init_u_traj)\n",
    "\n",
    "fig, ax = plt.subplots(1, 1, figsize=(6,4), dpi=100, tight_layout=True)\n",
    "ax.set_ylim(-1.0, 1.0)\n",
    "ax.set_title(\"Arrows indicate descent direction\")\n",
    "ax.set_xlabel('Time (s)')\n",
    "ax.set_ylabel('Control')\n",
    "\n",
    "tlist = np.arange(tsteps)*dt\n",
    "ax.plot(tlist, init_u_traj[:,0], linestyle='-', color='C0', label=r'$u_1$')\n",
    "ax.plot(tlist, init_u_traj[:,1], linestyle='--', color='C1', label=r'$u_2$')\n",
    "ax.quiver(tlist[::3], init_u_traj[:,0][::3], np.zeros_like(tlist)[::3], v_traj[:,0][::3], color='C0')\n",
    "ax.quiver(tlist[::3], init_u_traj[:,1][::3], np.zeros_like(tlist)[::3], v_traj[:,1][::3], color='C1')\n",
    "\n",
    "ax.legend(loc=3)\n",
    "plt.show()\n",
    "plt.close()"
   ]
  },
  {
   "cell_type": "markdown",
   "metadata": {},
   "source": [
    "Once we have the descent direction, we can find a step size (such as through Armijo backtracking line search) and iteratively update the control. In the example here, we will simply choose a small constant step size and update the control."
   ]
  },
  {
   "cell_type": "code",
   "execution_count": 779,
   "metadata": {},
   "outputs": [],
   "source": [
    "# Iterative trajectory optimization for ergodic control\n",
    "u_traj = init_u_traj.copy()\n",
    "step = 0.01\n",
    "loss_list = []"
   ]
  },
  {
   "cell_type": "code",
   "execution_count": 780,
   "metadata": {},
   "outputs": [
    {
     "name": "stderr",
     "output_type": "stream",
     "text": [
      "  2%|▏         | 2/100 [00:00<00:10,  9.34it/s]"
     ]
    },
    {
     "name": "stdout",
     "output_type": "stream",
     "text": [
      "step:  9.5367431640625e-06\n",
      "step:  9.5367431640625e-06\n"
     ]
    },
    {
     "name": "stderr",
     "output_type": "stream",
     "text": [
      "  4%|▍         | 4/100 [00:00<00:10,  9.46it/s]"
     ]
    },
    {
     "name": "stdout",
     "output_type": "stream",
     "text": [
      "step:  9.5367431640625e-06\n",
      "step:  9.5367431640625e-06\n"
     ]
    },
    {
     "name": "stderr",
     "output_type": "stream",
     "text": [
      "  6%|▌         | 6/100 [00:00<00:09,  9.48it/s]"
     ]
    },
    {
     "name": "stdout",
     "output_type": "stream",
     "text": [
      "step:  9.5367431640625e-06\n",
      "step:  9.5367431640625e-06\n"
     ]
    },
    {
     "name": "stderr",
     "output_type": "stream",
     "text": [
      "  8%|▊         | 8/100 [00:00<00:09,  9.50it/s]"
     ]
    },
    {
     "name": "stdout",
     "output_type": "stream",
     "text": [
      "step:  9.5367431640625e-06\n",
      "step:  9.5367431640625e-06\n"
     ]
    },
    {
     "name": "stderr",
     "output_type": "stream",
     "text": [
      " 10%|█         | 10/100 [00:01<00:09,  9.51it/s]"
     ]
    },
    {
     "name": "stdout",
     "output_type": "stream",
     "text": [
      "step:  9.5367431640625e-06\n",
      "step:  9.5367431640625e-06\n"
     ]
    },
    {
     "name": "stderr",
     "output_type": "stream",
     "text": [
      " 12%|█▏        | 12/100 [00:01<00:09,  9.49it/s]"
     ]
    },
    {
     "name": "stdout",
     "output_type": "stream",
     "text": [
      "step:  9.5367431640625e-06\n",
      "step:  9.5367431640625e-06\n"
     ]
    },
    {
     "name": "stderr",
     "output_type": "stream",
     "text": [
      " 14%|█▍        | 14/100 [00:01<00:09,  9.49it/s]"
     ]
    },
    {
     "name": "stdout",
     "output_type": "stream",
     "text": [
      "step:  9.5367431640625e-06\n",
      "step:  9.5367431640625e-06\n"
     ]
    },
    {
     "name": "stderr",
     "output_type": "stream",
     "text": [
      " 16%|█▌        | 16/100 [00:01<00:08,  9.51it/s]"
     ]
    },
    {
     "name": "stdout",
     "output_type": "stream",
     "text": [
      "step:  9.5367431640625e-06\n",
      "step:  9.5367431640625e-06\n"
     ]
    },
    {
     "name": "stderr",
     "output_type": "stream",
     "text": [
      " 18%|█▊        | 18/100 [00:01<00:08,  9.53it/s]"
     ]
    },
    {
     "name": "stdout",
     "output_type": "stream",
     "text": [
      "step:  9.5367431640625e-06\n",
      "step:  9.5367431640625e-06\n"
     ]
    },
    {
     "name": "stderr",
     "output_type": "stream",
     "text": [
      " 20%|██        | 20/100 [00:02<00:08,  9.59it/s]"
     ]
    },
    {
     "name": "stdout",
     "output_type": "stream",
     "text": [
      "step:  9.5367431640625e-06\n",
      "step:  9.5367431640625e-06\n"
     ]
    },
    {
     "name": "stderr",
     "output_type": "stream",
     "text": [
      " 22%|██▏       | 22/100 [00:02<00:08,  9.63it/s]"
     ]
    },
    {
     "name": "stdout",
     "output_type": "stream",
     "text": [
      "step:  9.5367431640625e-06\n",
      "step:  9.5367431640625e-06\n"
     ]
    },
    {
     "name": "stderr",
     "output_type": "stream",
     "text": [
      " 24%|██▍       | 24/100 [00:02<00:07,  9.61it/s]"
     ]
    },
    {
     "name": "stdout",
     "output_type": "stream",
     "text": [
      "step:  9.5367431640625e-06\n",
      "step:  9.5367431640625e-06\n"
     ]
    },
    {
     "name": "stderr",
     "output_type": "stream",
     "text": [
      " 26%|██▌       | 26/100 [00:02<00:07,  9.60it/s]"
     ]
    },
    {
     "name": "stdout",
     "output_type": "stream",
     "text": [
      "step:  9.5367431640625e-06\n",
      "step:  9.5367431640625e-06\n"
     ]
    },
    {
     "name": "stderr",
     "output_type": "stream",
     "text": [
      " 28%|██▊       | 28/100 [00:02<00:07,  9.58it/s]"
     ]
    },
    {
     "name": "stdout",
     "output_type": "stream",
     "text": [
      "step:  9.5367431640625e-06\n",
      "step:  9.5367431640625e-06\n"
     ]
    },
    {
     "name": "stderr",
     "output_type": "stream",
     "text": [
      " 30%|███       | 30/100 [00:03<00:07,  9.57it/s]"
     ]
    },
    {
     "name": "stdout",
     "output_type": "stream",
     "text": [
      "step:  9.5367431640625e-06\n",
      "step:  9.5367431640625e-06\n"
     ]
    },
    {
     "name": "stderr",
     "output_type": "stream",
     "text": [
      " 32%|███▏      | 32/100 [00:03<00:07,  9.54it/s]"
     ]
    },
    {
     "name": "stdout",
     "output_type": "stream",
     "text": [
      "step:  9.5367431640625e-06\n",
      "step:  9.5367431640625e-06\n"
     ]
    },
    {
     "name": "stderr",
     "output_type": "stream",
     "text": [
      " 34%|███▍      | 34/100 [00:03<00:06,  9.43it/s]"
     ]
    },
    {
     "name": "stdout",
     "output_type": "stream",
     "text": [
      "step:  9.5367431640625e-06\n",
      "step:  9.5367431640625e-06\n"
     ]
    },
    {
     "name": "stderr",
     "output_type": "stream",
     "text": [
      " 36%|███▌      | 36/100 [00:03<00:06,  9.41it/s]"
     ]
    },
    {
     "name": "stdout",
     "output_type": "stream",
     "text": [
      "step:  9.5367431640625e-06\n",
      "step:  9.5367431640625e-06\n"
     ]
    },
    {
     "name": "stderr",
     "output_type": "stream",
     "text": [
      " 38%|███▊      | 38/100 [00:03<00:06,  9.48it/s]"
     ]
    },
    {
     "name": "stdout",
     "output_type": "stream",
     "text": [
      "step:  9.5367431640625e-06\n",
      "step:  9.5367431640625e-06\n"
     ]
    },
    {
     "name": "stderr",
     "output_type": "stream",
     "text": [
      " 40%|████      | 40/100 [00:04<00:06,  9.51it/s]"
     ]
    },
    {
     "name": "stdout",
     "output_type": "stream",
     "text": [
      "step:  9.5367431640625e-06\n",
      "step:  9.5367431640625e-06\n"
     ]
    },
    {
     "name": "stderr",
     "output_type": "stream",
     "text": [
      " 42%|████▏     | 42/100 [00:04<00:06,  9.54it/s]"
     ]
    },
    {
     "name": "stdout",
     "output_type": "stream",
     "text": [
      "step:  9.5367431640625e-06\n",
      "step:  9.5367431640625e-06\n"
     ]
    },
    {
     "name": "stderr",
     "output_type": "stream",
     "text": [
      " 44%|████▍     | 44/100 [00:04<00:05,  9.55it/s]"
     ]
    },
    {
     "name": "stdout",
     "output_type": "stream",
     "text": [
      "step:  9.5367431640625e-06\n",
      "step:  9.5367431640625e-06\n"
     ]
    },
    {
     "name": "stderr",
     "output_type": "stream",
     "text": [
      " 46%|████▌     | 46/100 [00:04<00:05,  9.55it/s]"
     ]
    },
    {
     "name": "stdout",
     "output_type": "stream",
     "text": [
      "step:  9.5367431640625e-06\n",
      "step:  9.5367431640625e-06\n"
     ]
    },
    {
     "name": "stderr",
     "output_type": "stream",
     "text": [
      " 48%|████▊     | 48/100 [00:05<00:05,  9.55it/s]"
     ]
    },
    {
     "name": "stdout",
     "output_type": "stream",
     "text": [
      "step:  9.5367431640625e-06\n",
      "step:  9.5367431640625e-06\n"
     ]
    },
    {
     "name": "stderr",
     "output_type": "stream",
     "text": [
      " 50%|█████     | 50/100 [00:05<00:05,  9.54it/s]"
     ]
    },
    {
     "name": "stdout",
     "output_type": "stream",
     "text": [
      "step:  9.5367431640625e-06\n",
      "step:  9.5367431640625e-06\n"
     ]
    },
    {
     "name": "stderr",
     "output_type": "stream",
     "text": [
      " 52%|█████▏    | 52/100 [00:05<00:05,  9.54it/s]"
     ]
    },
    {
     "name": "stdout",
     "output_type": "stream",
     "text": [
      "step:  9.5367431640625e-06\n",
      "step:  9.5367431640625e-06\n"
     ]
    },
    {
     "name": "stderr",
     "output_type": "stream",
     "text": [
      " 54%|█████▍    | 54/100 [00:05<00:04,  9.54it/s]"
     ]
    },
    {
     "name": "stdout",
     "output_type": "stream",
     "text": [
      "step:  9.5367431640625e-06\n",
      "step:  9.5367431640625e-06\n"
     ]
    },
    {
     "name": "stderr",
     "output_type": "stream",
     "text": [
      " 56%|█████▌    | 56/100 [00:05<00:04,  9.54it/s]"
     ]
    },
    {
     "name": "stdout",
     "output_type": "stream",
     "text": [
      "step:  9.5367431640625e-06\n",
      "step:  9.5367431640625e-06\n"
     ]
    },
    {
     "name": "stderr",
     "output_type": "stream",
     "text": [
      " 58%|█████▊    | 58/100 [00:06<00:04,  9.53it/s]"
     ]
    },
    {
     "name": "stdout",
     "output_type": "stream",
     "text": [
      "step:  9.5367431640625e-06\n",
      "step:  9.5367431640625e-06\n"
     ]
    },
    {
     "name": "stderr",
     "output_type": "stream",
     "text": [
      " 60%|██████    | 60/100 [00:06<00:04,  9.53it/s]"
     ]
    },
    {
     "name": "stdout",
     "output_type": "stream",
     "text": [
      "step:  9.5367431640625e-06\n",
      "step:  9.5367431640625e-06\n"
     ]
    },
    {
     "name": "stderr",
     "output_type": "stream",
     "text": [
      " 62%|██████▏   | 62/100 [00:06<00:03,  9.53it/s]"
     ]
    },
    {
     "name": "stdout",
     "output_type": "stream",
     "text": [
      "step:  9.5367431640625e-06\n",
      "step:  9.5367431640625e-06\n"
     ]
    },
    {
     "name": "stderr",
     "output_type": "stream",
     "text": [
      " 64%|██████▍   | 64/100 [00:06<00:03,  9.53it/s]"
     ]
    },
    {
     "name": "stdout",
     "output_type": "stream",
     "text": [
      "step:  9.5367431640625e-06\n",
      "step:  9.5367431640625e-06\n"
     ]
    },
    {
     "name": "stderr",
     "output_type": "stream",
     "text": [
      " 66%|██████▌   | 66/100 [00:06<00:03,  9.52it/s]"
     ]
    },
    {
     "name": "stdout",
     "output_type": "stream",
     "text": [
      "step:  9.5367431640625e-06\n",
      "step:  9.5367431640625e-06\n"
     ]
    },
    {
     "name": "stderr",
     "output_type": "stream",
     "text": [
      " 68%|██████▊   | 68/100 [00:07<00:03,  9.51it/s]"
     ]
    },
    {
     "name": "stdout",
     "output_type": "stream",
     "text": [
      "step:  9.5367431640625e-06\n",
      "step:  9.5367431640625e-06\n"
     ]
    },
    {
     "name": "stderr",
     "output_type": "stream",
     "text": [
      " 70%|███████   | 70/100 [00:07<00:03,  9.39it/s]"
     ]
    },
    {
     "name": "stdout",
     "output_type": "stream",
     "text": [
      "step:  9.5367431640625e-06\n",
      "step:  9.5367431640625e-06\n"
     ]
    },
    {
     "name": "stderr",
     "output_type": "stream",
     "text": [
      " 72%|███████▏  | 72/100 [00:07<00:02,  9.35it/s]"
     ]
    },
    {
     "name": "stdout",
     "output_type": "stream",
     "text": [
      "step:  9.5367431640625e-06\n",
      "step:  9.5367431640625e-06\n"
     ]
    },
    {
     "name": "stderr",
     "output_type": "stream",
     "text": [
      " 75%|███████▌  | 75/100 [00:07<00:02, 10.38it/s]"
     ]
    },
    {
     "name": "stdout",
     "output_type": "stream",
     "text": [
      "step:  9.5367431640625e-06\n",
      "step:  9.5367431640625e-06\n",
      "step:  9.5367431640625e-06\n"
     ]
    },
    {
     "name": "stderr",
     "output_type": "stream",
     "text": [
      " 77%|███████▋  | 77/100 [00:08<00:02, 11.13it/s]"
     ]
    },
    {
     "name": "stdout",
     "output_type": "stream",
     "text": [
      "step:  9.5367431640625e-06\n",
      "step:  9.5367431640625e-06\n",
      "step:  9.5367431640625e-06\n"
     ]
    },
    {
     "name": "stderr",
     "output_type": "stream",
     "text": [
      " 81%|████████  | 81/100 [00:08<00:01, 11.93it/s]"
     ]
    },
    {
     "name": "stdout",
     "output_type": "stream",
     "text": [
      "step:  9.5367431640625e-06\n",
      "step:  9.5367431640625e-06\n",
      "step:  9.5367431640625e-06\n"
     ]
    },
    {
     "name": "stderr",
     "output_type": "stream",
     "text": [
      " 83%|████████▎ | 83/100 [00:08<00:01, 12.12it/s]"
     ]
    },
    {
     "name": "stdout",
     "output_type": "stream",
     "text": [
      "step:  9.5367431640625e-06\n",
      "step:  9.5367431640625e-06\n",
      "step:  9.5367431640625e-06\n"
     ]
    },
    {
     "name": "stderr",
     "output_type": "stream",
     "text": [
      " 87%|████████▋ | 87/100 [00:08<00:01, 12.15it/s]"
     ]
    },
    {
     "name": "stdout",
     "output_type": "stream",
     "text": [
      "step:  9.5367431640625e-06\n",
      "step:  9.5367431640625e-06\n",
      "step:  9.5367431640625e-06\n"
     ]
    },
    {
     "name": "stderr",
     "output_type": "stream",
     "text": [
      " 89%|████████▉ | 89/100 [00:08<00:00, 12.30it/s]"
     ]
    },
    {
     "name": "stdout",
     "output_type": "stream",
     "text": [
      "step:  9.5367431640625e-06\n",
      "step:  9.5367431640625e-06\n",
      "step:  9.5367431640625e-06\n"
     ]
    },
    {
     "name": "stderr",
     "output_type": "stream",
     "text": [
      " 93%|█████████▎| 93/100 [00:09<00:00, 12.52it/s]"
     ]
    },
    {
     "name": "stdout",
     "output_type": "stream",
     "text": [
      "step:  9.5367431640625e-06\n",
      "step:  9.5367431640625e-06\n",
      "step:  9.5367431640625e-06\n"
     ]
    },
    {
     "name": "stderr",
     "output_type": "stream",
     "text": [
      " 95%|█████████▌| 95/100 [00:09<00:00, 12.56it/s]"
     ]
    },
    {
     "name": "stdout",
     "output_type": "stream",
     "text": [
      "step:  9.5367431640625e-06\n",
      "step:  9.5367431640625e-06\n",
      "step:  9.5367431640625e-06\n"
     ]
    },
    {
     "name": "stderr",
     "output_type": "stream",
     "text": [
      " 99%|█████████▉| 99/100 [00:09<00:00, 12.42it/s]"
     ]
    },
    {
     "name": "stdout",
     "output_type": "stream",
     "text": [
      "step:  9.5367431640625e-06\n",
      "step:  9.5367431640625e-06\n",
      "step:  9.5367431640625e-06\n"
     ]
    },
    {
     "name": "stderr",
     "output_type": "stream",
     "text": [
      "100%|██████████| 100/100 [00:09<00:00, 10.15it/s]"
     ]
    },
    {
     "name": "stdout",
     "output_type": "stream",
     "text": [
      "step:  9.5367431640625e-06\n"
     ]
    },
    {
     "name": "stderr",
     "output_type": "stream",
     "text": [
      "\n"
     ]
    }
   ],
   "source": [
    "for iter in tqdm(range(100)):\n",
    "    x_traj = trajopt_ergodic.traj_sim(x0, u_traj)\n",
    "    v_traj = trajopt_ergodic.get_descent(x0, u_traj)\n",
    "\n",
    "    loss_val = trajopt_ergodic.loss(x_traj, u_traj)\n",
    "\n",
    "    dl_z = 0.0\n",
    "    for vt in v_traj:\n",
    "        dl_z += -1.0 * dt * vt @ vt\n",
    "    step = 10.0\n",
    "    alpha = 0.5\n",
    "    c = 1e-04\n",
    "    for _i in range(20):\n",
    "        u_traj_temp = u_traj + step * v_traj\n",
    "        x_traj_temp = trajopt_ergodic.traj_sim(x0, u_traj_temp)\n",
    "        loss_val_temp = trajopt_ergodic.loss(x_traj_temp, u_traj_temp)\n",
    "        if loss_val_temp > loss_val - c * step * dl_z:\n",
    "            step *= alpha \n",
    "        else: \n",
    "            print('converge at: ', _i)\n",
    "            break\n",
    "    \n",
    "    print('step: ', step)\n",
    "    u_traj += step * v_traj"
   ]
  },
  {
   "cell_type": "code",
   "execution_count": 781,
   "metadata": {},
   "outputs": [
    {
     "data": {
      "image/png": "[encoded data removed]",
      "text/plain": [
       "<Figure size 350x350 with 1 Axes>"
      ]
     },
     "metadata": {
      "needs_background": "light"
     },
     "output_type": "display_data"
    }
   ],
   "source": [
    "init_x_traj = trajopt_ergodic.traj_sim(x0, init_u_traj)\n",
    "opt_x_traj = trajopt_ergodic.traj_sim(x0, u_traj)\n",
    "\n",
    "fig, ax = plt.subplots(1, 1, figsize=(5,5), dpi=70, tight_layout=True)\n",
    "\n",
    "ax.set_aspect('equal')\n",
    "ax.set_xlim(0.0, L_list[0])\n",
    "ax.set_ylim(0.0, L_list[1])\n",
    "ax.set_title('Original PDF')\n",
    "ax.contourf(grids_x, grids_y, pdf_vals.reshape(grids_x.shape), cmap='Reds')\n",
    "# ax.plot(init_x_traj[:,0], init_x_traj[:,1], linestyle='-', marker='', color='C0', alpha=0.2, label='Initial Trajectory')\n",
    "ax.plot([x0[0], opt_x_traj[0,0]], [x0[1], opt_x_traj[0,1]], linestyle='-', marker='', color='k', alpha=1.0)\n",
    "ax.plot(opt_x_traj[:,0], opt_x_traj[:,1], linestyle='-', marker='', color='k', alpha=1.0, label='Optimal trajectory')\n",
    "ax.plot(x0[0], x0[1], linestyle='', marker='o', markersize=10, color='C2', alpha=1.0, label='Initial state')\n",
    "# ax.legend(loc=1)\n",
    "\n",
    "plt.show()\n",
    "plt.close()"
   ]
  },
  {
   "cell_type": "code",
   "execution_count": null,
   "metadata": {},
   "outputs": [],
   "source": []
  }
 ],
 "metadata": {
  "kernelspec": {
   "display_name": "Python 3",
   "language": "python",
   "name": "python3"
  },
  "language_info": {
   "codemirror_mode": {
    "name": "ipython",
    "version": 3
   },
   "file_extension": ".py",
   "mimetype": "text/x-python",
   "name": "python",
   "nbconvert_exporter": "python",
   "pygments_lexer": "ipython3",
   "version": "3.8.10"
  }
 },
 "nbformat": 4,
 "nbformat_minor": 2
}
