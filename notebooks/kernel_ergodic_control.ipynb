{
 "cells": [
  {
   "cell_type": "markdown",
   "metadata": {},
   "source": [
    "### Tutorial 3: Fast Ergodic Search with Kernel Functions\n",
    "\n",
    "References:\n",
    "\n",
    "[1] *Sun, M., Gaggar, A., Trautman, P. and Murphey, T.*, 2024. **Fast Ergodic Search with Kernel Functions**. arXiv preprint arXiv:2403.01536. [[Link](https://arxiv.org/abs/2403.01536)]\n",
    "\n",
    "*(This tutorial will use JAX for auto-differentiation and accelerated computation.)*"
   ]
  },
  {
   "cell_type": "code",
   "execution_count": 1,
   "metadata": {},
   "outputs": [],
   "source": [
    "import numpy as np \n",
    "np.set_printoptions(precision=4)\n",
    "from tqdm import tqdm\n",
    "\n",
    "import jax.numpy as jnp \n",
    "from jax import jit, vmap, grad\n",
    "from jax.scipy.stats import multivariate_normal as mvn\n",
    "\n",
    "import matplotlib.pyplot as plt\n",
    "import matplotlib as mpl\n",
    "mpl.rcParams['axes.linewidth'] = 3\n",
    "mpl.rcParams['axes.titlesize'] = 20\n",
    "mpl.rcParams['axes.labelsize'] = 20\n",
    "mpl.rcParams['axes.titlepad'] = 8.0\n",
    "mpl.rcParams['xtick.major.size'] = 6\n",
    "mpl.rcParams['xtick.major.width'] = 3\n",
    "mpl.rcParams['xtick.labelsize'] = 20\n",
    "mpl.rcParams['ytick.major.size'] = 6\n",
    "mpl.rcParams['ytick.major.width'] = 3\n",
    "mpl.rcParams['ytick.labelsize'] = 20\n",
    "mpl.rcParams['lines.markersize'] = 5\n",
    "mpl.rcParams['lines.linewidth'] = 5\n",
    "mpl.rcParams['legend.fontsize'] = 15"
   ]
  },
  {
   "cell_type": "markdown",
   "metadata": {},
   "source": [
    "#### Kernel ergodic metric\n",
    "\n",
    "Recall that the original ergodic metric is defined as:\n",
    "\n",
    "$$\n",
    "\\mathcal{E}(p(x), s(t)) = \\sum_{k} \\lambda_k \\cdot (c_k - \\phi_k)^2\n",
    "$$\n",
    "\n",
    "where\n",
    "\n",
    "$$\n",
    "\\begin{aligned}\n",
    "    \\phi_k = \\int_{\\mathcal{X}} f_k(x) p(x) dx, \\quad c_k = \\frac{1}{T} \\int_{0}^{T} f_k(s(t)) dt\n",
    "\\end{aligned}\n",
    "$$\n",
    "\n",
    "Here we introduce another formula for the ergodic metric, named the *kernel ergodic metric*:\n",
    "\n",
    "$$\n",
    "\\mathcal{E}_g(p(x), s(t)) = \\frac{1}{T} \\int_{0}^{T} p(s(t)) dt - \\frac{2}{T^2} \\int_{0}^{T} \\int_{0}^{T} g(s(t), s(\\tau); \\theta) dt d\\tau\n",
    "$$\n",
    "\n",
    "where $g(s, s^\\prime)$ is a kernel function that can asymptotically converge to a Dirac delta function. In practice, it is often modeled as a squared exponential (Gaussian) kernel:\n",
    "\n",
    "$$\n",
    "\\Lambda(s, s^\\prime; \\theta) = \\theta_1 \\cdot \\exp\\left( -\\theta_2 \\cdot \\vert s {-} s^\\prime \\vert^2 \\right)\n",
    "$$\n",
    "\n",
    "For each spatial probability distribution $p(x)$, there exists a parameter $\\theta$ such that the kernel function $g(\\cdot, \\cdot ; \\theta)$ such that optimizing the original ergodic metric and optimizing the kernel ergodic metric converge to the same trajectory. Furthermore, such a parameter $\\theta$ can be solved through the following optimization problem:\n",
    "\n",
    "$$\n",
    "\\begin{align}\n",
    "    \\theta^* & = {\\arg\\min}_{\\theta} \\left\\vert \\frac{d}{d\\theta} \\left( \\frac{1}{N}\\sum_{i=1}^{N} p(x_i) - \\frac{2}{N^2} \\sum_{i=0}^{N} \\sum_{j=0}^{N} g(x_i, x_j; \\theta) \\right) \\right\\vert^2, \\quad \\{x_i\\}_N \\sim p(x)\n",
    "\\end{align}\n",
    "$$\n",
    "\n",
    "where each $x_i$ is a sample from the spatial probability distribution $p(x)$. "
   ]
  },
  {
   "cell_type": "code",
   "execution_count": 2,
   "metadata": {},
   "outputs": [],
   "source": [
    "# Define a Gaussian-mixture spatial distribution\n",
    "mean1 = jnp.array([0.35, 0.38])\n",
    "cov1 = jnp.array([\n",
    "    [0.01, 0.004],\n",
    "    [0.004, 0.01]\n",
    "])\n",
    "w1 = 0.5\n",
    "\n",
    "mean2 = jnp.array([0.68, 0.25])\n",
    "cov2 = jnp.array([\n",
    "    [0.005, -0.003],\n",
    "    [-0.003, 0.005]\n",
    "])\n",
    "w2 = 0.2\n",
    "\n",
    "mean3 = jnp.array([0.56, 0.64])\n",
    "cov3 = jnp.array([\n",
    "    [0.008, 0.0],\n",
    "    [0.0, 0.004]\n",
    "])\n",
    "w3 = 0.3\n",
    "\n",
    "\n",
    "def pdf(x):\n",
    "    return w1 * mvn.pdf(x, mean1, cov1) + \\\n",
    "           w2 * mvn.pdf(x, mean2, cov2) + \\\n",
    "           w3 * mvn.pdf(x, mean3, cov3)\n",
    "\n",
    "\n",
    "# Sample from the spatial distribution\n",
    "rng = "
   ]
  },
  {
   "cell_type": "code",
   "execution_count": 3,
   "metadata": {},
   "outputs": [],
   "source": [
    "# Define the kernel function\n",
    "def kernel(x1, x2, theta):\n",
    "    return theta[0] * jnp.exp(-1.0 * jnp.sum(jnp.square(x1-x2)))"
   ]
  },
  {
   "cell_type": "code",
   "execution_count": null,
   "metadata": {},
   "outputs": [],
   "source": []
  }
 ],
 "metadata": {
  "kernelspec": {
   "display_name": "Python 3",
   "language": "python",
   "name": "python3"
  },
  "language_info": {
   "codemirror_mode": {
    "name": "ipython",
    "version": 3
   },
   "file_extension": ".py",
   "mimetype": "text/x-python",
   "name": "python",
   "nbconvert_exporter": "python",
   "pygments_lexer": "ipython3",
   "version": "3.8.10"
  }
 },
 "nbformat": 4,
 "nbformat_minor": 2
}
