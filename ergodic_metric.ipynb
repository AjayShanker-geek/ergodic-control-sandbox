{
 "cells": [
  {
   "cell_type": "markdown",
   "metadata": {},
   "source": [
    "### Tutorial 0: Introduction to the ergodic metric\n",
    "\n",
    "References: \n",
    "\n",
    "[1] Mathew, G. and Mezić, I., 2011. Metrics for ergodicity and design of ergodic dynamics for multi-agent systems. Physica D: Nonlinear Phenomena, 240(4-5), pp.432-442. [[**Link**](https://www.sciencedirect.com/science/article/pii/S016727891000285X)]"
   ]
  },
  {
   "cell_type": "code",
   "execution_count": 29,
   "metadata": {},
   "outputs": [],
   "source": [
    "import numpy as np \n",
    "np.set_printoptions(precision=4)\n",
    "\n",
    "import matplotlib.pyplot as plt\n",
    "import matplotlib as mpl\n",
    "mpl.rcParams['axes.linewidth'] = 3\n",
    "mpl.rcParams['axes.titlesize'] = 20\n",
    "mpl.rcParams['axes.labelsize'] = 20\n",
    "mpl.rcParams['axes.titlepad'] = 8.0\n",
    "mpl.rcParams['xtick.major.size'] = 6\n",
    "mpl.rcParams['xtick.major.width'] = 3\n",
    "mpl.rcParams['xtick.labelsize'] = 20\n",
    "mpl.rcParams['ytick.major.size'] = 6\n",
    "mpl.rcParams['ytick.major.width'] = 3\n",
    "mpl.rcParams['ytick.labelsize'] = 20\n",
    "mpl.rcParams['lines.markersize'] = 5\n",
    "mpl.rcParams['legend.fontsize'] = 15"
   ]
  },
  {
   "cell_type": "markdown",
   "metadata": {},
   "source": [
    "#### Fourier basis function\n",
    "\n",
    "We start with defining of the exploration space $\\mathcal{X}$, which is a $d$-dimensional rectangular Euclidean space. Without loss of generality, we define the search space as:\n",
    "\n",
    "$$\\mathcal{X}=[0,L_1]\\times\\cdots\\times[0,L_d], $$  \n",
    "\n",
    "where $L_i$ is the boundary length of the $i$-th dimension. The *normalized* Fourier basis function is defined over the search space. Denote a state within the search space as $x = [x_1, \\dots, x_d] \\in \\mathcal{X}$, the normalized Fourier basis function is characterized by a $d$-dimensional *index vector* $k = [k_1, \\dots, k_d]$, where each entry of the vector is a whole number $k_i \\in [0, 1, 2, \\dots, K]$:\n",
    "\n",
    "$$\n",
    "\\begin{align}\n",
    "f_k(x) & = \\frac{1}{h_k} \\prod_{i=1}^{d} \\cos\\left( \\frac{k_i \\pi}{L_i} x_i \\right),\n",
    "\\end{align}\n",
    "$$ \n",
    "\n",
    "where $h_k$ is the normalization term, such that the function space norm of each basis function $\\left[\\int_{\\mathcal{X}} f_k(x)^2 dx\\right]^{\\frac{1}{2}}$ is $1$."
   ]
  },
  {
   "cell_type": "markdown",
   "metadata": {},
   "source": [
    "The normalized basis functions consist of a set of *orthonormal bases* in the infinite dimensional function space. Thus, we can transform any function with the same domain (the search space) into a set of new coordinates under these *orthonormal bases*.\n",
    "\n",
    "Given a spatial probability density function $p(x)$, we can transform this function as follow:\n",
    "\n",
    "$$\n",
    "\\begin{align}\n",
    "    p(x) & = \\sum_{k}^{\\infty} \\left( \\underbrace{\\int_{\\mathcal{X}} p(x) f_k(x) dx}_{\\phi_k} \\right) \\cdot f_k(x) \\\\\n",
    "        & = \\sum_{k}^{\\infty} \\phi_k \\cdot f_k(x)\n",
    "\\end{align}\n",
    "$$ where all the coefficients $[c_k]$ consist the coordinate of the function $p(x)$ under the bases $[f_k(x)]$. \n",
    "\n",
    "Though the equality only holds in theory when we have an infinite number of basis functions, in practice, we can choose a finite number of basis functions to approximate an infinite dimensional function $p(x)$ within a finite dimensional Euclidean space (a finite number of coefficients).\n",
    "\n",
    "This transformation from an infinite dimensional function space to a finite dimensional vector space is crucial for the ergodic metric. We now verify this transformation below."
   ]
  },
  {
   "cell_type": "code",
   "execution_count": 30,
   "metadata": {},
   "outputs": [],
   "source": [
    "### We define a Gaussian mixture model as the spatial probability density function\n",
    "from scipy.stats import multivariate_normal as mvn\n",
    "\n",
    "mean1 = np.array([0.35, 0.38])\n",
    "cov1 = np.array([\n",
    "    [0.01, 0.004],\n",
    "    [0.004, 0.01]\n",
    "])\n",
    "w1 = 0.5\n",
    "\n",
    "mean2 = np.array([0.68, 0.25])\n",
    "cov2 = np.array([\n",
    "    [0.005, -0.003],\n",
    "    [-0.003, 0.005]\n",
    "])\n",
    "w2 = 0.2\n",
    "\n",
    "mean3 = np.array([0.56, 0.64])\n",
    "cov3 = np.array([\n",
    "    [0.008, 0.0],\n",
    "    [0.0, 0.004]\n",
    "])\n",
    "w3 = 0.3\n",
    "\n",
    "\n",
    "# Define the Gaussian-mixture density function here\n",
    "def pdf(x):\n",
    "    return w1 * mvn.pdf(x, mean1, cov1) + \\\n",
    "           w2 * mvn.pdf(x, mean2, cov2) + \\\n",
    "           w3 * mvn.pdf(x, mean3, cov3)"
   ]
  },
  {
   "cell_type": "code",
   "execution_count": 31,
   "metadata": {},
   "outputs": [
    {
     "name": "stdout",
     "output_type": "stream",
     "text": [
      "First 5 index vectors: \n",
      "[[0 0]\n",
      " [1 0]\n",
      " [2 0]\n",
      " [3 0]\n",
      " [4 0]]\n",
      "First 5 coefficients:  [ 0.9898  0.0799 -0.7756 -0.063  -0.0555]\n"
     ]
    }
   ],
   "source": [
    "### We are going to use 10 coefficients per dimension --- so 100 index vectors in total\n",
    "\n",
    "num_k_per_dim = 10\n",
    "ks_dim1, ks_dim2 = np.meshgrid(\n",
    "    np.arange(num_k_per_dim), np.arange(num_k_per_dim)\n",
    ")\n",
    "ks = np.array([ks_dim1.ravel(), ks_dim2.ravel()]).T  # this is the set of all index vectors\n",
    "print('First 5 index vectors: ')\n",
    "print(ks[:5, :])\n",
    "\n",
    "# define a 1-by-1 2D search space\n",
    "L_list = np.array([1.0, 1.0])  # boundaries for each dimension\n",
    "\n",
    "# Discretize the search space into 100-by-100 mesh grids\n",
    "grids_x, grids_y = np.meshgrid(\n",
    "    np.linspace(0, L_list[0], 100),\n",
    "    np.linspace(0, L_list[1], 100)\n",
    ")\n",
    "grids = np.array([grids_x.ravel(), grids_y.ravel()]).T\n",
    "dx = 1.0 / 99\n",
    "dy = 1.0 / 99  # the resolution of the grids\n",
    "\n",
    "# Compute the coefficients\n",
    "coefficients = np.zeros(ks.shape[0])  # number of coefficients matches the number of index vectors\n",
    "for i, k_vec in enumerate(ks):\n",
    "    # step 1: evaluate the fourier basis function over all the grid cells\n",
    "    fk_vals = np.prod(np.cos(np.pi * k_vec / L_list * grids), axis=1)  # we use NumPy's broadcasting feature to simplify computation\n",
    "    hk = np.sqrt(np.sum(np.square(fk_vals)) * dx * dy)  # normalization term\n",
    "    fk_vals /= hk\n",
    "\n",
    "    # step 2: evaluate the spatial probabilty density function over all the grid cells\n",
    "    pdf_vals = pdf(grids)  # this can computed ahead of the time\n",
    "\n",
    "    # step 3: approximate the integral through the Riemann sum for the coefficient\n",
    "    phik = np.sum(fk_vals * pdf_vals) * dx * dy \n",
    "    coefficients[i] = phik\n",
    "\n",
    "print('First 5 coefficients: ', coefficients[:5])"
   ]
  },
  {
   "cell_type": "code",
   "execution_count": 32,
   "metadata": {},
   "outputs": [
    {
     "data": {
      "image/png": "[encoded data removed]",
      "text/plain": [
       "<Figure size 630x350 with 2 Axes>"
      ]
     },
     "metadata": {
      "needs_background": "light"
     },
     "output_type": "display_data"
    }
   ],
   "source": [
    "### We can verify the correctness of the coefficients by reconstructing the probability\n",
    "### density function through the coefficients\n",
    "\n",
    "pdf_recon = np.zeros(grids.shape[0])\n",
    "for i, (phik, k_vec) in enumerate(zip(coefficients, ks)):\n",
    "    fk_vals = np.prod(np.cos(np.pi * k_vec / L_list * grids), axis=1)\n",
    "    hk = np.sqrt(np.sum(np.square(fk_vals)) * dx * dy)\n",
    "    fk_vals /= hk\n",
    "    \n",
    "    pdf_recon += phik * fk_vals \n",
    "\n",
    "pdf_gt = pdf(grids)  # ground truth density function\n",
    "\n",
    "# visualize for comparison\n",
    "fig, axes = plt.subplots(1, 2, figsize=(9,5), dpi=70, tight_layout=True)\n",
    "\n",
    "ax = axes[0]\n",
    "ax.set_aspect('equal')\n",
    "ax.set_xlim(0.0, L_list[0])\n",
    "ax.set_ylim(0.0, L_list[1])\n",
    "ax.set_title('Original PDF')\n",
    "ax.contourf(grids_x, grids_y, pdf_gt.reshape(grids_x.shape), cmap='Reds')\n",
    "\n",
    "ax = axes[1]\n",
    "ax.set_aspect('equal')\n",
    "ax.set_xlim(0.0, L_list[0])\n",
    "ax.set_ylim(0.0, L_list[1])\n",
    "ax.set_title('Reconstructed PDF')\n",
    "ax.contourf(grids_x, grids_y, pdf_recon.reshape(grids_x.shape), cmap='Blues')\n",
    "\n",
    "plt.show()\n",
    "plt.close()"
   ]
  },
  {
   "cell_type": "markdown",
   "metadata": {},
   "source": [
    "#### Ergodic metric: distance measure between a trajectory and a distribution\n",
    "\n",
    "The intuition behind the ergodic metric is that we want to measure the difference between a spatial probability density function and the **empirical distribution** of a trajectory $s(t)$ within the search space. The empirical distribution is defined as:\n",
    "\n",
    "$$\n",
    "\\begin{align}\n",
    "\\Phi_{s(t)}(x) = \\frac{1}{T} \\int_{0}^{T} \\delta(x {-} s(t)) dt,\n",
    "\\end{align}\n",
    "$$ \n",
    "\n",
    "where $\\delta(\\cdot)$ is a Dirac delta function. \n",
    "\n",
    "The key insight here is that we can also transform the empirical distribution into a vector space through the Fourier basis functions. In fact, the Dirac delta function further simplifies the calculation:\n",
    "\n",
    "$$\n",
    "\\begin{align}\n",
    "    \\Phi_{s(t)}(x) & = \\sum_{k}^{\\infty} \\left[ \\int_{\\mathcal{X}} \\left( \\frac{1}{T} \\int_{0}^{T} \\delta(x {-} s(t)) dt \\right) f_k(x) dx \\right] \\cdot f_k(x) \\\\\n",
    "    & = \\sum_{k}^{\\infty} \\left(\\underbrace{\\frac{1}{T} \\int_{0}^{T} f_k(s(t)) dt}_{c_k} \\right) \\cdot f_k(x) \\\\\n",
    "        & = \\sum_{k}^{\\infty} c_k \\cdot f_k(x)\n",
    "\\end{align}\n",
    "$$\n",
    "\n",
    "This allows us to approximate the distance between a probability density function $p(x)$ and a trajectory's empirical distribution $\\Phi_{s(t)}(x)$ in a finite dimensional vector space with the following formula, which is the mathematical formula of the ergodic metric:\n",
    "\\begin{align}\n",
    "    \\mathcal{E}(p(x), s(t)) & = \\sum_{k} \\lambda_k \\cdot (c_k - \\phi_k)^2, \\\\\n",
    "    \\lambda_k & = (1 + \\Vert k \\Vert)^{-\\frac{d+1}{2}}.\n",
    "\\end{align}\n",
    "\n",
    "This ergodic metric formula is equivalent to a distance metric given by the Sobolev space norm of negative index $-\\frac{d+1}{2}$. [1] \n",
    "\n",
    "**If the ergodic metric between a dynamic system's trajectory, over an infinitely long time horizon, and a spatial probability density function is zero, the system is ergodic with respect to the spatial probability distribution.**"
   ]
  },
  {
   "cell_type": "markdown",
   "metadata": {},
   "source": [
    "#### Ergodic control: connecting temporal statistics with spatial statistics\n",
    "\n",
    "The goal of ergodic control is to design a dynamic system, through optimal control approaches, that is ergodic with respect to a target spatial probability distribution. In other words, to design a dynamic system with smallest possible ergodic metric value with respect a target spatial probability density function. \n",
    "\n",
    "An ergodic system connects the temporal statistic of its behavior with the spatial statistic of the target distribution: an ergodic visits any region of the search space with the amount of time proportional to the integrated value of the spatial distribution over the same region. This property naturally introduces two advantages of using ergodic control as an exploration strategy:\n",
    "\n",
    "(1) An ergodic system will eventually cover the entire search space, so long as the target spatial distribution is a non-zero probability density over any region of the space. This is the intrinsic coverage guarantee of ergodic control;\n",
    "\n",
    "(2) An ergodic system automatically allocates the time spent on investigating each region of the search space based on the integrated density of the region. This is preferrable to standard coverage approach as an ergodic system covers a distribution instead of just the search space. \n",
    "\n",
    "While we leave the optimal control approaches to later tutorials, here we give an example of calculating the ergodic metric given a trajectory. We will use the Gaussian-mixture distribution defined above as the target spatial distribution. \n",
    "\n",
    "Assuming we have a dynamic system, where the state of the system at each time step is a sample from the Guassian-mixture distribution. Such a system is indeed ergodic, thus should lead to small value when we evaluate the ergodic metric. "
   ]
  },
  {
   "cell_type": "code",
   "execution_count": 33,
   "metadata": {},
   "outputs": [
    {
     "name": "stdout",
     "output_type": "stream",
     "text": [
      "First 5 coefficients:  [ 0.99    0.0493 -0.7253 -0.0393 -0.1306]\n"
     ]
    }
   ],
   "source": [
    "# define the dynamics\n",
    "def dyn(st):\n",
    "    mixture_category = np.where(np.random.multinomial(1, [w1, w2, w3])==1.0)[0][0]\n",
    "    if mixture_category == 0:\n",
    "        st_new = mvn.rvs(mean1, cov1)\n",
    "    elif mixture_category == 1:\n",
    "        st_new = mvn.rvs(mean2, cov2)\n",
    "    else:\n",
    "        st_new = mvn.rvs(mean3, cov3)\n",
    "    return st_new\n",
    "\n",
    "\n",
    "# simulate the trajectory \n",
    "dt = 0.1\n",
    "tsteps = 200\n",
    "st = np.ones(2) * 0.5\n",
    "s_traj = []\n",
    "for t in range(tsteps):\n",
    "    st_new = dyn(st)\n",
    "    s_traj.append(st_new)\n",
    "    st = st_new.copy()\n",
    "s_traj = np.array(s_traj)\n",
    "\n",
    "# compute the coefficient of the trajectory\n",
    "traj_coefficients = np.zeros(ks.shape[0])\n",
    "for i, k_vec in enumerate(ks):\n",
    "    # step 1: evaluate the basis function over the trajectory\n",
    "    fk_vals = np.prod(np.cos(np.pi * k_vec / L_list * s_traj), axis=1)\n",
    "    hk = np.sqrt(np.sum(np.square(np.prod(np.cos(np.pi * k_vec / L_list * grids), axis=1))) * dx * dy)\n",
    "    fk_vals /= hk\n",
    "\n",
    "    # step 2: approximate the integral through the Riemann sum for the coefficient\n",
    "    ck = np.sum(fk_vals) * dt / (tsteps * dt)\n",
    "    traj_coefficients[i] = ck\n",
    "\n",
    "print('First 5 coefficients: ', traj_coefficients[:5])"
   ]
  },
  {
   "cell_type": "code",
   "execution_count": 34,
   "metadata": {},
   "outputs": [
    {
     "data": {
      "image/png": "[encoded data removed]",
      "text/plain": [
       "<Figure size 630x350 with 2 Axes>"
      ]
     },
     "metadata": {
      "needs_background": "light"
     },
     "output_type": "display_data"
    }
   ],
   "source": [
    "phi_recon = np.zeros(grids.shape[0])\n",
    "for i, (ck, k_vec) in enumerate(zip(traj_coefficients, ks)):\n",
    "    fk_vals = np.prod(np.cos(np.pi * k_vec / L_list * grids), axis=1)\n",
    "    hk = np.sqrt(np.sum(np.square(fk_vals)) * dx * dy)\n",
    "    fk_vals /= hk\n",
    "    \n",
    "    phi_recon += ck * fk_vals \n",
    "\n",
    "pdf_gt = pdf(grids)  # ground truth density function\n",
    "\n",
    "# visualize for comparison\n",
    "fig, axes = plt.subplots(1, 2, figsize=(9,5), dpi=70, tight_layout=True)\n",
    "\n",
    "ax = axes[0]\n",
    "ax.set_aspect('equal')\n",
    "ax.set_xlim(0.0, L_list[0])\n",
    "ax.set_ylim(0.0, L_list[1])\n",
    "ax.set_title('Original PDF')\n",
    "ax.contourf(grids_x, grids_y, pdf_gt.reshape(grids_x.shape), cmap='Reds')\n",
    "\n",
    "ax = axes[1]\n",
    "ax.set_aspect('equal')\n",
    "ax.set_xlim(0.0, L_list[0])\n",
    "ax.set_ylim(0.0, L_list[1])\n",
    "ax.set_title('Empirical Distribution')\n",
    "ax.contourf(grids_x, grids_y, phi_recon.reshape(grids_x.shape), cmap='Blues')\n",
    "ax.plot(s_traj[:,0], s_traj[:,1], linestyle='', marker='o', color='k', alpha=0.2, label='Trajectory')\n",
    "ax.legend(loc=1)\n",
    "\n",
    "plt.show()\n",
    "plt.close()"
   ]
  },
  {
   "cell_type": "code",
   "execution_count": 35,
   "metadata": {},
   "outputs": [
    {
     "name": "stdout",
     "output_type": "stream",
     "text": [
      "ergodic metric:  0.016259039188992127\n"
     ]
    }
   ],
   "source": [
    "# Finally, we compute the erogdic metric\n",
    "lamk_list = np.power(1.0 + np.linalg.norm(ks, axis=1), -3/2.0)\n",
    "erg_metric = np.sum(lamk_list * np.square(coefficients - traj_coefficients))\n",
    "print('ergodic metric: ', erg_metric)"
   ]
  },
  {
   "cell_type": "markdown",
   "metadata": {},
   "source": [
    "#### (Bonus) Accelerated computation of ergodic metric\n",
    "\n",
    "You may have noticed that most of the operations for computing the ergodic metric, mainly the calculation of the coefficients, can be done in parallel. In general, we need to evalulate **each** fourier basis function (with each index vector) over **each** state that we are interested in --- here the states can the discretized state space or the states within a trajectory. \n",
    "\n",
    "Here we show can example of leveraging this structure to accelerate the computation of coefficients. By using NumPy's broadcasting feature, we can compute the coefficients without a single for loop!\n",
    "\n",
    "Below is how we were computing the coefficients:\n",
    "\n",
    "```python\n",
    "coefficients = np.zeros(ks.shape[0])  \n",
    "for i, k_vec in enumerate(ks):\n",
    "    fk_vals = np.prod(np.cos(np.pi * k_vec / L_list * grids), axis=1) \n",
    "    hk = np.sqrt(np.sum(np.square(fk_vals)) * dx * dy) \n",
    "    fk_vals /= hk\n",
    "\n",
    "    pdf_vals = pdf(grids)  \n",
    "    \n",
    "    phik = np.sum(fk_vals * pdf_vals) * dx * dy \n",
    "    coefficients[i] = phik\n",
    "```\n",
    "\n",
    "We were already using broadcasting to avoid the loop over each grid cells in the discretized search space, now we will further optimize to get rid of the loop over index vectors."
   ]
  },
  {
   "cell_type": "code",
   "execution_count": 36,
   "metadata": {},
   "outputs": [
    {
     "name": "stdout",
     "output_type": "stream",
     "text": [
      "(100, 10000, 2)\n"
     ]
    }
   ],
   "source": [
    "fk_vals_tensor = np.cos(np.pi * ks[:,np.newaxis] / L_list * grids) \n",
    "print(fk_vals_tensor.shape)"
   ]
  },
  {
   "cell_type": "markdown",
   "metadata": {},
   "source": [
    "This tensor `fk_vals_tensor` with the shape (100, 10000, 2) contains the evaluation of the fourier basis function at **each** index vector (100 in total), **each** grid cell in the discretized state space (100*100 in total), and **each** dimension of the state (2 in total). Based on this tensor, we can calculate the coefficients as follow:"
   ]
  },
  {
   "cell_type": "code",
   "execution_count": 37,
   "metadata": {},
   "outputs": [
    {
     "name": "stdout",
     "output_type": "stream",
     "text": [
      "difference:  2.43807732144174e-16\n"
     ]
    }
   ],
   "source": [
    "# compute the normalization terms for each index vector\n",
    "hk_list = np.sqrt(np.sum(np.square(np.prod(fk_vals_tensor, axis=2)), axis=1) * dx * dy) \n",
    "\n",
    "# compute the coefficients\n",
    "coefficients_new = np.sum(pdf(grids) * np.prod(fk_vals_tensor, axis=2) / hk_list[:,np.newaxis], axis=1) * dx * dy \n",
    "\n",
    "# verify that this optimized implementation produces the same results\n",
    "print('difference: ', np.linalg.norm(coefficients - coefficients_new))"
   ]
  },
  {
   "cell_type": "code",
   "execution_count": null,
   "metadata": {},
   "outputs": [],
   "source": []
  }
 ],
 "metadata": {
  "kernelspec": {
   "display_name": "Python 3",
   "language": "python",
   "name": "python3"
  },
  "language_info": {
   "codemirror_mode": {
    "name": "ipython",
    "version": 3
   },
   "file_extension": ".py",
   "mimetype": "text/x-python",
   "name": "python",
   "nbconvert_exporter": "python",
   "pygments_lexer": "ipython3",
   "version": "3.8.10"
  }
 },
 "nbformat": 4,
 "nbformat_minor": 2
}
